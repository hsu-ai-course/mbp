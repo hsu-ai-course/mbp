{
 "cells": [
  {
   "cell_type": "markdown",
   "metadata": {},
   "source": [
    "# Recursive determinant\n",
    "\n",
    "Consider this recursive formula for a determinant:\n",
    "\n",
    "$\\large {\\displaystyle \\det(A)=\\sum _{j=1}^{n}(-1)^{i+j}a_{ij}M_{ij}}$\n",
    "\n",
    "Where $a_{ij}$ is an element of $A$ and $(-1)^{i+j}M_{ij}$ is an $(i, j)-$complement of $A$, which is, as you remember, defined with a determinant of a smaller matrix.\n",
    "\n",
    "Implement this formula, estimate complexity $D(n)$ if your implementation ($n$ - side of a matrix). Consider, that `minor_matrix(A, i, j)` takes $\\mathcal{O}(n^2)$ time, where $n$ is a side of a square matrix $A\\in\\mathbb{R}^{n\\times n}$."
   ]
  },
  {
   "cell_type": "code",
   "execution_count": null,
   "metadata": {},
   "outputs": [],
   "source": [
    "import numpy as np\n",
    "\n",
    "def minor_matrix(A, i, j):                         # O(n^2)\n",
    "    return np.delete(\n",
    "        np.delete(M, i, axis=0), j, axis=1\n",
    "    )\n",
    "\n",
    "def det(A):\n",
    "    if A.shape == (1, 1):                          #\n",
    "        return A[0, 0]                             #\n",
    "    else:                                          #\n",
    "        # todo: write your code here               #\n",
    "        return 0.0                                 #\n",
    "    \n",
    "A = np.random.rand(1, 1)\n",
    "assert abs(det(A) - np.linalg.det(A)) < 1e-5\n",
    "B = np.random.rand(5, 5)\n",
    "assert abs(det(B) - np.linalg.det(B)) < 1e-5"
   ]
  },
  {
   "cell_type": "markdown",
   "metadata": {},
   "source": [
    "$D(n) = ...$\n",
    "\n",
    "\n",
    "$D(n) \\in \\mathcal{O}(..n..)$"
   ]
  },
  {
   "cell_type": "markdown",
   "metadata": {},
   "source": [
    "### Prove your result with an experimental graph"
   ]
  },
  {
   "cell_type": "code",
   "execution_count": 12,
   "metadata": {},
   "outputs": [
    {
     "data": {
      "image/png": "[encoded data removed]",
      "text/plain": [
       "<Figure size 432x288 with 1 Axes>"
      ]
     },
     "metadata": {
      "needs_background": "light"
     },
     "output_type": "display_data"
    }
   ],
   "source": [
    "import matplotlib.pyplot as plt\n",
    "sizes = list(range(1, 14))\n",
    "times = []\n",
    "for size in sizes:\n",
    "    I = np.eye(size)\n",
    "    \n",
    "    # write your code here\n",
    "    \n",
    "    det(I)\n",
    "    \n",
    "    \n",
    "    # write your code here\n",
    "    times.append(0)\n",
    "    \n",
    "    \n",
    "    \n",
    "plt.plot(sizes, times, marker=\"*\", label='Det')\n",
    "plt.legend()\n",
    "plt.show()"
   ]
  }
 ],
 "metadata": {
  "kernelspec": {
   "display_name": "Python 3",
   "language": "python",
   "name": "python3"
  },
  "language_info": {
   "codemirror_mode": {
    "name": "ipython",
    "version": 3
   },
   "file_extension": ".py",
   "mimetype": "text/x-python",
   "name": "python",
   "nbconvert_exporter": "python",
   "pygments_lexer": "ipython3",
   "version": "3.7.4"
  }
 },
 "nbformat": 4,
 "nbformat_minor": 4
}
