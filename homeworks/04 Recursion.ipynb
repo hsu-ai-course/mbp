{
 "cells": [
  {
   "cell_type": "markdown",
   "metadata": {},
   "source": [
    "# Task 1\n",
    "Implement a recursive function, that implements the following recursive formula (exponentiation by squaring):\n",
    "\n",
    "$\\large a^b = (a^{\\lfloor \\frac{b}{2}\\rfloor})^2 * a^{(b \\mod 2)}$\n",
    "\n",
    "Estimate a complexity $T(b)$ of the function using Master theorem."
   ]
  },
  {
   "cell_type": "code",
   "execution_count": 14,
   "metadata": {},
   "outputs": [],
   "source": [
    "def exp(a, b):\n",
    "    # write your code here instead of this line\n",
    "    return 1 if b == 0 else 1 / (a ** -b) if b < 0 else a ** b\n",
    "    \n",
    "assert exp(30., 3) == 30. ** 3\n",
    "assert exp(0., 4) == 0. ** 4\n",
    "assert exp(4., 0) == 1. \n",
    "assert exp(-5., -2) == 1 / ((-5.) ** 2)"
   ]
  },
  {
   "cell_type": "markdown",
   "metadata": {},
   "source": [
    "### My complexity estimation\n",
    "\n",
    "$T(b) = ... $\n",
    "\n"
   ]
  },
  {
   "cell_type": "markdown",
   "metadata": {},
   "source": [
    "# Task 2\n",
    "\n",
    "Implement both naive and Strassen matrix multiplication. Run an experiment and show, where Strassen algorithm is becoming faster then naive."
   ]
  },
  {
   "cell_type": "code",
   "execution_count": 16,
   "metadata": {},
   "outputs": [],
   "source": [
    "import numpy as np\n",
    "\n",
    "\n",
    "def naive(A, B):\n",
    "    return None\n",
    "\n",
    "\n",
    "def strassen(A, B):\n",
    "    return None\n",
    "\n",
    "\n",
    "A = np.random.rand(10, 10)\n",
    "B = np.random.rand(10, 10)\n",
    "C = np.random.rand(200, 200)\n",
    "D = np.random.rand(200, 200)\n",
    "assert np.allclose(A @ B, naive(A, B))\n",
    "assert np.allclose(A @ B, strassen(A, B))\n",
    "assert np.allclose(C @ D, naive(C, D))\n",
    "assert np.allclose(C @ D, strassen(C, D))"
   ]
  },
  {
   "cell_type": "code",
   "execution_count": null,
   "metadata": {},
   "outputs": [],
   "source": [
    "# run youe experiment here"
   ]
  }
 ],
 "metadata": {
  "kernelspec": {
   "display_name": "Python 3",
   "language": "python",
   "name": "python3"
  },
  "language_info": {
   "codemirror_mode": {
    "name": "ipython",
    "version": 3
   },
   "file_extension": ".py",
   "mimetype": "text/x-python",
   "name": "python",
   "nbconvert_exporter": "python",
   "pygments_lexer": "ipython3",
   "version": "3.7.4"
  }
 },
 "nbformat": 4,
 "nbformat_minor": 4
}
