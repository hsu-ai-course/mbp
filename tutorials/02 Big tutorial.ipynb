{
 "cells": [
  {
   "cell_type": "markdown",
   "metadata": {},
   "source": [
    "# Task 1. Complexity estimation\n",
    "\n",
    "For given functions extimate complexity, write upper bound estimation."
   ]
  },
  {
   "cell_type": "code",
   "execution_count": null,
   "metadata": {},
   "outputs": [],
   "source": [
    "def x(n):\n",
    "    summ = 0.                     #\n",
    "    for i in range(n ** 2):       #\n",
    "        summ += i ** 2            #\n",
    "    return summ                   #\n",
    "\n",
    "x(4)"
   ]
  },
  {
   "cell_type": "markdown",
   "metadata": {},
   "source": [
    "$X(n) = ...$\n",
    "\n",
    "\n",
    "$X(n) \\in \\mathcal{O}(...)$"
   ]
  },
  {
   "cell_type": "code",
   "execution_count": null,
   "metadata": {},
   "outputs": [],
   "source": [
    "def a(n):\n",
    "    for i in range(2, n + 1):     #\n",
    "        for j in range(2, i):     #\n",
    "            if i % j == 0:        #\n",
    "                break             #\n",
    "        else:                     #\n",
    "            print(i)              #\n",
    "            \n",
    "a(39)"
   ]
  },
  {
   "cell_type": "markdown",
   "metadata": {},
   "source": [
    "$A(n) = ...$\n",
    "\n",
    "\n",
    "$A(n) \\in \\mathcal{O}(...)$"
   ]
  },
  {
   "cell_type": "code",
   "execution_count": null,
   "metadata": {},
   "outputs": [],
   "source": [
    "def b(n):\n",
    "    for i in range(2, n + 1):     #\n",
    "        j = 2                     #\n",
    "        while j ** 2 <= i:        #\n",
    "            if i % j == 0:        #\n",
    "                break             #\n",
    "            j += 1                #\n",
    "        else:                     #\n",
    "            print(i)              #   \n",
    "            \n",
    "b(39)"
   ]
  },
  {
   "cell_type": "markdown",
   "metadata": {},
   "source": [
    "$B(n) = ...$\n",
    "\n",
    "\n",
    "$B(n) \\in \\mathcal{O}(...)$"
   ]
  },
  {
   "cell_type": "code",
   "execution_count": 36,
   "metadata": {},
   "outputs": [
    {
     "data": {
      "text/plain": [
       "0.49949450450450456"
      ]
     },
     "execution_count": 36,
     "metadata": {},
     "output_type": "execute_result"
    }
   ],
   "source": [
    "import numpy as np\n",
    "\n",
    "def c(sorted_a, n, value):\n",
    "    if n == 1:                                        #\n",
    "        return sorted_a[0]                            #\n",
    "    else:                                             #\n",
    "        if value > sorted_a[-1]:                      #\n",
    "            return sorted_a[-1]                       #\n",
    "        else:                                         #\n",
    "            return c(sorted_a[:-1], n-1, value)       #\n",
    "    \n",
    "a = np.linspace(0.0, 0.99999, 1000)\n",
    "c(a, a.shape[0], 0.5)"
   ]
  },
  {
   "cell_type": "markdown",
   "metadata": {},
   "source": [
    "$C(n) = ...$\n",
    "\n",
    "\n",
    "$C(n) \\in \\mathcal{O}(...)$"
   ]
  },
  {
   "cell_type": "code",
   "execution_count": 41,
   "metadata": {},
   "outputs": [
    {
     "data": {
      "text/plain": [
       "2"
      ]
     },
     "execution_count": 41,
     "metadata": {},
     "output_type": "execute_result"
    }
   ],
   "source": [
    "def d(sorted_a, n):\n",
    "    gaps = 0                                          #\n",
    "    r = sorted_a[-1] - sorted_a[0] + 1                #\n",
    "    for i in range(r):                                #\n",
    "        if (i + sorted_a[0]) not in sorted_a:         #\n",
    "            gaps += 1                                 #\n",
    "    return gaps                                       #\n",
    "\n",
    "d([1, 2, 4, 6, 7, 8, 9, 10], 8)"
   ]
  },
  {
   "cell_type": "markdown",
   "metadata": {},
   "source": [
    "$D(n) = ...$\n",
    "\n",
    "\n",
    "$D(n) \\in \\mathcal{O}(...)$"
   ]
  },
  {
   "cell_type": "markdown",
   "metadata": {},
   "source": [
    "# Task 2. Recursive matrix multiplication\n",
    "\n",
    "Implement both naive and **[Strassen](https://en.wikipedia.org/wiki/Strassen_algorithm) matrix multiplication**. You can consider only cases, where matrix is square and size is $2^N$. **Avoid using numpy library functions and operators {\\*, @, +, -}. Implement you own `plus` and `minus` functions**\n",
    "\n",
    "\n",
    "## Strassen multiplication\n",
    "This method is based on a rule, that matrices can be multiplied block-wise.\n",
    "\n",
    "$${\\mathbf  {A}}={\\begin{bmatrix}{\\mathbf  {A}}_{{1,1}}&{\\mathbf  {A}}_{{1,2}}\\\\{\\mathbf  {A}}_{{2,1}}&{\\mathbf  {A}}_{{2,2}}\\end{bmatrix}}{\\mbox{ , }}{\\mathbf  {B}}={\\begin{bmatrix}{\\mathbf  {B}}_{{1,1}}&{\\mathbf  {B}}_{{1,2}}\\\\{\\mathbf  {B}}_{{2,1}}&{\\mathbf  {B}}_{{2,2}}\\end{bmatrix}}{\\mbox{ , }}{\\mathbf  {C}}={\\begin{bmatrix}{\\mathbf  {C}}_{{1,1}}&{\\mathbf  {C}}_{{1,2}}\\\\{\\mathbf  {C}}_{{2,1}}&{\\mathbf  {C}}_{{2,2}}\\end{bmatrix}}$$\n",
    "\n",
    "$${\\mathbf  {C}}_{{1,1}}={\\mathbf  {A}}_{{1,1}}{\\mathbf  {B}}_{{1,1}}+{\\mathbf  {A}}_{{1,2}}{\\mathbf  {B}}_{{2,1}}$$\n",
    "\n",
    "$${\\mathbf  {C}}_{{1,2}}={\\mathbf  {A}}_{{1,1}}{\\mathbf  {B}}_{{1,2}}+{\\mathbf  {A}}_{{1,2}}{\\mathbf  {B}}_{{2,2}}$$\n",
    "\n",
    "$${\\mathbf  {C}}_{{2,1}}={\\mathbf  {A}}_{{2,1}}{\\mathbf  {B}}_{{1,1}}+{\\mathbf  {A}}_{{2,2}}{\\mathbf  {B}}_{{2,1}}$$\n",
    "\n",
    "$${\\mathbf  {C}}_{{2,2}}={\\mathbf  {A}}_{{2,1}}{\\mathbf  {B}}_{{1,2}}+{\\mathbf  {A}}_{{2,2}}{\\mathbf  {B}}_{{2,2}}$$\n",
    "\n",
    "Follow the [explanation on Wikipedia](https://en.wikipedia.org/wiki/Strassen_algorithm#Algorithm), compute $M_1-M_7$ and use them to find $C$."
   ]
  },
  {
   "cell_type": "code",
   "execution_count": 19,
   "metadata": {},
   "outputs": [],
   "source": [
    "import numpy as np\n",
    "\n",
    "def split(A):\n",
    "    '''This function splits a matrix into 4 blocks ~ or a quarter size'''\n",
    "    h, w = A.shape\n",
    "    A11 = A[:h//2, :w//2]\n",
    "    A12 = A[:h//2, w//2:]\n",
    "    A21 = A[h//2:, :w//2]\n",
    "    A22 = A[h//2:, w//2:]\n",
    "    return [[A11, A12], [A21, A22]]\n",
    "\n",
    "def glue(A11, A12, A21, A22):\n",
    "    A_1 = np.concatenate((A11, A21), axis=0)\n",
    "    A_2 = np.concatenate((A12, A22), axis=0)\n",
    "    A = np.concatenate((A_1, A_2), axis=1)\n",
    "    return A\n",
    "\n",
    "X = np.random.rand(9, 9)\n",
    "XS = split(X)\n",
    "\n",
    "assert XS[0][0].shape == (4, 4)\n",
    "assert XS[0][1].shape == (4, 5)\n",
    "assert XS[1][0].shape == (5, 4)\n",
    "assert XS[1][1].shape == (5, 5)\n",
    "\n",
    "X2 = glue(*XS[0], *XS[1])\n",
    "assert np.allclose(X, X2)"
   ]
  },
  {
   "cell_type": "code",
   "execution_count": null,
   "metadata": {},
   "outputs": [],
   "source": [
    "def plus(A, B):\n",
    "    # write your code here for A+B\n",
    "    return None\n",
    "\n",
    "\n",
    "def minus(A, B):\n",
    "    # write your code here for A-B\n",
    "    return None\n",
    "\n",
    "\n",
    "def naive_mult(A, B):\n",
    "    # write your code here for A times B as by definition\n",
    "    return None\n",
    "\n",
    "\n",
    "def strassen_mult(A, B):\n",
    "    # stop rule:\n",
    "    if A.shape == (1, 1) and B.shape == (1, 1):\n",
    "        return np.matrix([[A[0, 0] * B[0, 0]]])\n",
    "\n",
    "    A_ = split(A)\n",
    "    B_ = split(B)\n",
    "    M1 = strassen_mult(\n",
    "            plus(A_[0][0], A_[1][1]),\n",
    "            plus(B_[0][0], B_[1][1])\n",
    "        )\n",
    "    \n",
    "    ## To be continued\n",
    "    ## Write your code here for Strassen matrix multiplication\n",
    "    \n",
    "    \n",
    "    return glue(C11, C12, C21, C22)\n",
    "\n",
    "\n",
    "O = np.random.rand(1, 1)\n",
    "A = np.random.rand(64, 64)\n",
    "B = np.random.rand(64, 64)\n",
    "C = np.random.rand(2048, 2048)\n",
    "D = np.random.rand(2048, 2048)\n",
    "assert np.allclose(A @ B, naive_mult(A, B))\n",
    "assert np.allclose(A @ B, strassen_mult(A, B))\n",
    "assert np.allclose(C @ D, naive_mult(C, D))\n",
    "assert np.allclose(C @ D, strassen_mult(C, D))"
   ]
  },
  {
   "cell_type": "markdown",
   "metadata": {},
   "source": [
    "### Run an experiment and show, where Strassen algorithm is becoming faster then naive in absolute time measurements."
   ]
  },
  {
   "cell_type": "code",
   "execution_count": null,
   "metadata": {},
   "outputs": [],
   "source": [
    "import matplotlib.pyplot as plt\n",
    "\n",
    "sizes = [2 ** i for i in range(13)]\n",
    "naive_times = []\n",
    "strassen_times = []\n",
    "\n",
    "for size in sizes:\n",
    "    A = np.random.rand(size, size)\n",
    "    B = np.random.rand(size, size)\n",
    "    \n",
    "    ## WRITE EXPERIMENT CODE HERE\n",
    "    \n",
    "    pass\n",
    "    \n",
    "plt.plot(sizes, naive_times, marker=\"*\", label=\"naive\")\n",
    "plt.plot(sizes, strassen_times, marker=\"+\", label=\"Strassen\")\n",
    "plt.legend()\n",
    "plt.show()"
   ]
  },
  {
   "cell_type": "markdown",
   "metadata": {},
   "source": [
    "### Combine Strassen and naive approaches for the faster algorithm"
   ]
  },
  {
   "cell_type": "code",
   "execution_count": null,
   "metadata": {},
   "outputs": [],
   "source": [
    "def strassen_improved(A, B):\n",
    "    ### TODO write an improved Strassen method"
   ]
  },
  {
   "cell_type": "markdown",
   "metadata": {},
   "source": [
    "### Plot the graph for an improved function"
   ]
  },
  {
   "cell_type": "code",
   "execution_count": null,
   "metadata": {},
   "outputs": [],
   "source": [
    "import matplotlib.pyplot as plt\n",
    "\n",
    "sizes = [2 ** i for i in range(13)]\n",
    "strassen_times = []\n",
    "\n",
    "for size in sizes:\n",
    "    A = np.random.rand(size, size)\n",
    "    B = np.random.rand(size, size)\n",
    "    \n",
    "    ## WRITE EXPERIMENT CODE HERE\n",
    "    \n",
    "    pass\n",
    "   \n",
    "plt.plot(sizes, strassen_times, marker=\"+\", label=\"Strassen+\")\n",
    "plt.legend()\n",
    "plt.show()"
   ]
  }
 ],
 "metadata": {
  "kernelspec": {
   "display_name": "Python 3",
   "language": "python",
   "name": "python3"
  },
  "language_info": {
   "codemirror_mode": {
    "name": "ipython",
    "version": 3
   },
   "file_extension": ".py",
   "mimetype": "text/x-python",
   "name": "python",
   "nbconvert_exporter": "python",
   "pygments_lexer": "ipython3",
   "version": "3.7.4"
  }
 },
 "nbformat": 4,
 "nbformat_minor": 4
}
