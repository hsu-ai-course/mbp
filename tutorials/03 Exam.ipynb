{
 "cells": [
  {
   "cell_type": "markdown",
   "metadata": {},
   "source": [
    "# [5] Problem 0. Warm up.\n",
    "\n",
    "Reproduce the formula in $\\LaTeX$\n",
    "\n",
    "![](data:image/jpeg;base64,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)"
   ]
  },
  {
   "cell_type": "markdown",
   "metadata": {},
   "source": [
    "Write you answer here:\n",
    "\n",
    "$$\n",
    "\\huge B>...\n",
    "$$"
   ]
  },
  {
   "cell_type": "markdown",
   "metadata": {},
   "source": [
    "# [10] Problem 1. Numbers\n",
    "\n",
    "We stick to `c_int16` type, which is 2-byte signed integer. It uses two's complement notation for negative numbers. Compute, what will be the binary representation for **-12345<sub>10</sub>**. Justify every step of you computations. Test you result."
   ]
  },
  {
   "cell_type": "code",
   "execution_count": null,
   "metadata": {},
   "outputs": [],
   "source": [
    "# use this block for computations and justification"
   ]
  },
  {
   "cell_type": "code",
   "execution_count": null,
   "metadata": {},
   "outputs": [],
   "source": [
    "from ctypes import c_int16\n",
    "\n",
    "# write you answer here\n",
    "my_answer = 0b_00000000_00000000\n",
    "\n",
    "c_answer = c_int16(my_answer)\n",
    "assert c_answer.value == -12345"
   ]
  },
  {
   "cell_type": "markdown",
   "metadata": {},
   "source": [
    "# [10] Problem 2. Real numbers\n",
    "\n",
    "We stick to `c_float` type, which is 4-byte floating point number. What will be binary form for `-17.0`? Compute and justify each step. Pass the test."
   ]
  },
  {
   "cell_type": "code",
   "execution_count": null,
   "metadata": {},
   "outputs": [],
   "source": [
    "# use this block for computations and justification"
   ]
  },
  {
   "cell_type": "code",
   "execution_count": null,
   "metadata": {},
   "outputs": [],
   "source": [
    "from ctypes import c_uint32, c_float\n",
    "import ctypes\n",
    "\n",
    "def bits_to_cfloat(bits):\n",
    "    i = c_uint32(bits)                 # first we create unsigned 4-byte integer value\n",
    "    ip = ctypes.addressof(i)           # then we take an address of this value\n",
    "    fp = ctypes.cast(ip, ctypes.POINTER(c_float))  # and then we re-interpret the pointer as a pointer to 4-bytes float\n",
    "    # bits will remain the same\n",
    "    return fp[0]\n",
    "\n",
    "# write you answer here\n",
    "my_answer = 0b_1_00000000_00000000000000000000000\n",
    "\n",
    "assert bits_to_cfloat(my_answer) == -17.0"
   ]
  },
  {
   "cell_type": "markdown",
   "metadata": {},
   "source": [
    "# [10] Problem 3. Vectors\n",
    "We use python's list to represent a vector. Write a function that adds 2 vectors. Test you function on a graph. Two houses should appear. Asserts should pass."
   ]
  },
  {
   "cell_type": "code",
   "execution_count": null,
   "metadata": {},
   "outputs": [],
   "source": [
    "import matplotlib.pyplot as plt\n",
    "\n",
    "def add(a, b):\n",
    "    # write your code here\n",
    "    return a\n",
    "\n",
    "vectors = [\n",
    "        [0, 1],\n",
    "        [0, 0],\n",
    "        [1, 0],\n",
    "        [1, 1],\n",
    "        [0, 1],\n",
    "        [0.5, 1.5],\n",
    "        [1, 1]\n",
    "    ]\n",
    "\n",
    "XY = list(zip(*vectors))\n",
    "\n",
    "move = [0.33, 0.77]\n",
    "vectors_new = [add(x, move) for x in vectors]\n",
    "XY_new = list(zip(*vectors_new))\n",
    "\n",
    "plt.plot(*XY)\n",
    "plt.plot(*XY_new)\n",
    "plt.show()\n",
    "\n",
    "\n",
    "assert add([0], [-1]) == [-1]\n",
    "assert add([0, 1, 2, 3, 4, 5], [6, 5, 4, 3, 2, 1]) == [6, 6, 6, 6, 6, 6]"
   ]
  },
  {
   "cell_type": "markdown",
   "metadata": {},
   "source": [
    "# [10] Problem 4. Matrices.\n",
    "\n",
    "One butterfly lives in 2D world and has the only rule of life:\n",
    "\n",
    "$\\large ROTATE\\_MATRIX \\times TODAY\\_VECTOR = NEXT\\_DAY\\_VECTOR$\n",
    "\n",
    "or shorter\n",
    "\n",
    "$\\large R \\times T = N$\n",
    "\n",
    "One day it was seen at $\\begin{bmatrix}0 \\\\ 1\\end{bmatrix}$, and the next day at $\\begin{bmatrix}\\frac{\\sqrt{2}}{2} \\\\ \\frac{\\sqrt{2}}{2}\\end{bmatrix}$.\n",
    "\n",
    "Other day it was seen at $\\begin{bmatrix}2 \\\\ 2\\end{bmatrix}$, and the next day at $\\begin{bmatrix}2\\sqrt{2} \\\\ 0\\end{bmatrix}$.\n",
    "\n",
    "1. Collect the matrix $N$.\n",
    "2. Restore the main rule of life of the butterfly: $R$.\n",
    "3. Draw the next week of butterfly in it starts at $\\begin{bmatrix}1 \\\\ 1\\end{bmatrix}$ "
   ]
  },
  {
   "cell_type": "code",
   "execution_count": null,
   "metadata": {},
   "outputs": [],
   "source": [
    "import numpy as np\n",
    "import matplotlib.pyplot as plt\n",
    "\n",
    "one_day = np.matrix([[0.0, 1.0]]).T\n",
    "one_day_tomorrow = np.matrix([[(2 ** .5)/2, (2 ** .5)/2]]).T\n",
    "\n",
    "other_day = np.matrix([[2.0, 2.0]]).T\n",
    "other_day_tomorrow = np.matrix([[2 * (2 ** .5), 0]]).T\n",
    "\n",
    "# R @ T = N\n",
    "T = np.hstack((one_day, other_day))  # with glues 2 columns into a matrix\n",
    "print(\"T =\")\n",
    "print(T)\n",
    "\n",
    "# what will be N then?\n",
    "# write your code and replace the next line\n",
    "N = None \n",
    "print(\"N =\")\n",
    "print(N)\n",
    "\n",
    "# !!NB!! this is a wrong matrix. \n",
    "# Compute the correct one and replace the next line\n",
    "R = np.zeros((2, 2))\n",
    "print(\"R =\")\n",
    "print(R)\n",
    "\n",
    "assert np.allclose(R @ one_day, one_day_tomorrow)\n",
    "assert np.allclose(R @ other_day, other_day_tomorrow)\n",
    "\n",
    "butterfly = np.matrix([[1., 1.]]).T\n",
    "\n",
    "X, Y = [], []\n",
    "X.append(butterfly[0, 0])\n",
    "Y.append(butterfly[1, 0])\n",
    "for day in ['tue', 'wed', 'thu', 'fri', 'sat', 'sun']:\n",
    "    # add single line of code here\n",
    "    # butterfly = ...\n",
    "    X.append(butterfly[0, 0])\n",
    "    Y.append(butterfly[1, 0])\n",
    "    \n",
    "plt.plot(X, Y)\n",
    "plt.show()"
   ]
  },
  {
   "cell_type": "markdown",
   "metadata": {},
   "source": [
    "# [10] Problem 5. Graphs\n",
    "\n",
    "**Create and display** the graph with the nodes named `A, B, C, D, E, F`. Add edges between each pair of consonants and between each pair of vowels, BUT NOT between consonant and vowel."
   ]
  },
  {
   "cell_type": "code",
   "execution_count": null,
   "metadata": {},
   "outputs": [],
   "source": [
    "import networkx as nx\n",
    "import matplotlib.pyplot as plt\n",
    "\n",
    "G = nx.Graph()\n",
    "\n",
    "# write your code here\n",
    "\n",
    "nx.draw(G, with_labels=True)\n",
    "plt.show()"
   ]
  },
  {
   "cell_type": "markdown",
   "metadata": {},
   "source": [
    "# [10] Problem 6. Graph as matrix\n",
    "\n",
    "For a given adjacency matrix `M` answer the following questions. Justify your answers.\n",
    "\n",
    "1. Does it have cycles? Why?\n",
    "2. Is it conected? Why?\n",
    "3. Is this a tree? Why?\n",
    "4. Does it have an Eulerian path? Why?"
   ]
  },
  {
   "cell_type": "code",
   "execution_count": null,
   "metadata": {},
   "outputs": [],
   "source": [
    "import numpy as np\n",
    "\n",
    "M = np.matrix([\n",
    "    [0, 1, 0, 0],\n",
    "    [1, 0, 1, 1],\n",
    "    [0, 1, 0, 0],\n",
    "    [0, 1, 0, 0],\n",
    "])\n",
    "\n",
    "\n",
    "# write and justify your answers here or in a block below"
   ]
  },
  {
   "cell_type": "markdown",
   "metadata": {},
   "source": [
    "1. Graph has cycles, because...\n",
    "2. Graph is connected, because...\n",
    "3. Graph is a tree, because...\n",
    "4. Graph has as Eulerian path, because..."
   ]
  },
  {
   "cell_type": "markdown",
   "metadata": {},
   "source": [
    "# [10] Problem 7. Trees\n",
    "\n",
    "I define a directed tree with a formula:\n",
    "\n",
    "$$\n",
    "T = (E, V) \\\\\n",
    "E = \\{1, 2, 3, 4, 5\\} \\\\\n",
    "V = \\{(x,y)| x, y\\in E \\land x // y = 2\\}\n",
    "$$\n",
    "\n",
    "1. How many edges are there in this graph? Estimate without drawing. Justify.\n",
    "2. Draw the tree with `networkx`."
   ]
  },
  {
   "cell_type": "markdown",
   "metadata": {},
   "source": [
    "## Answer\n",
    "The number of edges in a tree $T$ is... . To compute it we will use the formula..."
   ]
  },
  {
   "cell_type": "code",
   "execution_count": null,
   "metadata": {},
   "outputs": [],
   "source": [
    "# drawing \n",
    "\n",
    "import networkx as nx\n",
    "import matplotlib.pyplot as plt\n",
    "\n",
    "T = nx.DiGraph()\n",
    "\n",
    "# todo. Write your code here\n",
    "\n",
    "nx.draw(T, with_labels=True)\n",
    "plt.show()"
   ]
  },
  {
   "cell_type": "markdown",
   "metadata": {},
   "source": [
    "# [10] Problem 8. Time analysis\n",
    "\n",
    "Estimate time complexity of the following code."
   ]
  },
  {
   "cell_type": "code",
   "execution_count": null,
   "metadata": {},
   "outputs": [],
   "source": [
    "def t(n):                             # T(n) = ...\n",
    "    if t == 0:                        #\n",
    "        return 1                      #\n",
    "    else:                             #\n",
    "        result = 0.0                  #\n",
    "        for i in range(n):            #\n",
    "            for j in range(n // 2):   #\n",
    "                result += j - i       #\n",
    "        return result                 #\n",
    "t(10)"
   ]
  },
  {
   "cell_type": "markdown",
   "metadata": {},
   "source": [
    "$T(n) = ...$\n",
    "\n",
    "$T(n) \\in O(...)$"
   ]
  },
  {
   "cell_type": "markdown",
   "metadata": {},
   "source": [
    "# [5] Problem 9. Recursion\n",
    "\n",
    "The Akkerman's function is defined like this:\n",
    "\n",
    "$A(m,\\;n)=\\begin{cases}n+1,&m=0;\\\\A(m-1,\\;1),&m>0,\\;n=0;\\\\A(m-1,\\;A(m,\\;n-1)),&m>0,\\;n>0.\\end{cases}$\n",
    "\n",
    "Implement it and pass the tests."
   ]
  },
  {
   "cell_type": "code",
   "execution_count": null,
   "metadata": {},
   "outputs": [],
   "source": [
    "def A(m, n):\n",
    "    if m == 0:\n",
    "        return n + 1\n",
    "    # write you code instead of following lines\n",
    "    else:\n",
    "        pass\n",
    "    \n",
    "    \n",
    "assert A(0, 0) == 1\n",
    "assert A(1, 1) == 3\n",
    "assert A(4, 0) == 13\n",
    "assert A(0, 4) == 5\n",
    "assert A(4, 1) == 65533"
   ]
  },
  {
   "cell_type": "markdown",
   "metadata": {},
   "source": [
    "# [10] Problem 10. Recursion analysis\n",
    "\n",
    "Estimate time complexity of the following function using Master theorem.\n",
    "\n",
    "1. Annotate the code\n",
    "2. Write explicit recurrent formula\n",
    "3. Apply correct branch of the theorem\n",
    "4. Get the resulting estimation"
   ]
  },
  {
   "cell_type": "code",
   "execution_count": 47,
   "metadata": {},
   "outputs": [
    {
     "data": {
      "text/plain": [
       "67"
      ]
     },
     "execution_count": 47,
     "metadata": {},
     "output_type": "execute_result"
    }
   ],
   "source": [
    "def f(A):                                          # F(N)\n",
    "    N = len(A)                                     #\n",
    "    if N == 1:                                     #\n",
    "        return A[0]                                #\n",
    "    elif N == 2:                                   #\n",
    "        return max(A[0], A[1])                     #\n",
    "    b1 = N // 3                                    #\n",
    "    b2 = 2 * N // 3                                #\n",
    "    return max(f(A[:b1]), f(A[b1:b2]), f(A[b2:]))  #\n",
    "    \n",
    "f([1, 2, 3, 4, 5, 66, 7, 8, 9, 10, 67, 65, 12, -100.0, 54])"
   ]
  },
  {
   "cell_type": "markdown",
   "metadata": {},
   "source": [
    "### Answer\n",
    "2. Explicit formula. $F(N) = xF(\\frac{N}{y}) + \\Theta(n^z)$\n",
    "3. Master theorem branch. With justification.\n",
    "4. $F(N)\\in \\Theta(...)$"
   ]
  },
  {
   "cell_type": "markdown",
   "metadata": {},
   "source": [
    "# [10] Problem 11. Brute force. \n",
    "\n",
    "Password is defined on the following alphabet: `{'Σ', 'Г', 'Θ', 'Ξ'}`. It has exactly 4 letters without repetitions. We know, that `hash(password) == '1348cbc2d912da8192fe846ba8385b38'`. Find the password."
   ]
  },
  {
   "cell_type": "code",
   "execution_count": null,
   "metadata": {},
   "outputs": [],
   "source": [
    "from hashlib import md5\n",
    "\n",
    "def hash(s):\n",
    "    return md5(\"\".join(s).encode(\"utf-8\")).hexdigest()\n",
    "\n",
    "# write your code here, print the password\n",
    "password = \"\"\n",
    "\n",
    "assert hash(password) == '1348cbc2d912da8192fe846ba8385b38'"
   ]
  },
  {
   "cell_type": "markdown",
   "metadata": {},
   "source": [
    "# [10] Problem 12. Greedy\n",
    "\n",
    "A set $E$ is defined like this: $E = \\{13, 7, 3, 5, 17, 11, 2\\}$.\n",
    "\n",
    "A set $I_j$ is defined like this:\n",
    "\n",
    "\"$I_j\\subset E$ where for any pair of different numbers $x, y\\in I_j, x\\neq y$ holds: \n",
    "\n",
    "```x % y > 0 and y % x > 0 and len(Ij) < 5 == True```.\n",
    "\n",
    "Implement the greedy algorithm which will find such $I_j$ that we sum of elements is the smallest and the cardinalty of $I_j$ is the biggest possible."
   ]
  },
  {
   "cell_type": "code",
   "execution_count": null,
   "metadata": {},
   "outputs": [],
   "source": [
    "from itertools import product \n",
    "\n",
    "E = [13, 7, 3, 5, 17, 11, 2]\n",
    "\n",
    "def P(I):\n",
    "    result = True\n",
    "    LI = list(I)\n",
    "    for x, y in product(I, I):\n",
    "        if x != y:\n",
    "            result = result and x % y > 0 and y % x > 0 and len(I) < 5\n",
    "    return result\n",
    "\n",
    "def greedy(E):\n",
    "    \n",
    "    # write your greedy code here\n",
    "    \n",
    "    return E[:4]\n",
    "\n",
    "\n",
    "assert P(greedy(E)) and sum(greedy(E)) == 17"
   ]
  },
  {
   "cell_type": "markdown",
   "metadata": {},
   "source": [
    "# [15] Problem 13. Bonus 1\n",
    "\n",
    "Estimate complexity of the following algorithm."
   ]
  },
  {
   "cell_type": "code",
   "execution_count": 77,
   "metadata": {},
   "outputs": [
    {
     "data": {
      "text/plain": [
       "[1, 2, 3, 4, 5, 6, 7, 8, 9]"
      ]
     },
     "execution_count": 77,
     "metadata": {},
     "output_type": "execute_result"
    }
   ],
   "source": [
    "def A(array):                                                # T(N) = ...\n",
    "    N = len(array)                                           #\n",
    "    if N < 2:                                                #\n",
    "        return array                                         #\n",
    "    a, b, c = N // 4, 2 * N // 4, 3 * N // 4                 #\n",
    "    result = A(array[:a]) + A(array[a:b]) + \\\n",
    "             A(array[b:c]) + A(array[c:])                    #\n",
    "    result.sort()                                            # Theta(N*logN)\n",
    "    return result                                            #\n",
    "\n",
    "A([6, 7, 5, 4, 3, 1, 2, 8, 9])"
   ]
  },
  {
   "cell_type": "markdown",
   "metadata": {},
   "source": [
    "$T(N) = ...$\n",
    "\n",
    "$T(N) \\in ...$"
   ]
  },
  {
   "cell_type": "markdown",
   "metadata": {},
   "source": [
    "# [20+10] Problem 14. Bonus 2\n",
    "\n",
    "$N_{-1}=0, N_0=0, N_1 = 1$\n",
    "\n",
    "$N_k=N_{k-1} + N_{k-3}$\n",
    "\n",
    "1. Write a recusive algorithm for the given formula.\n",
    "2. Plot the graph of time complexity.\n",
    "3. Write linear implementation for this formula. Plot the graph.\n",
    "4. (\\*+10) explicit formula for this recurrence relation."
   ]
  },
  {
   "cell_type": "code",
   "execution_count": null,
   "metadata": {},
   "outputs": [],
   "source": [
    "def Narayana(n):\n",
    "    # write your recurrent code here\n",
    "    return 0\n",
    "\n",
    "assert Narayana(0) == 0\n",
    "assert Narayana(1) == 1\n",
    "assert Narayana(4) == 2\n",
    "assert Narayana(9) == 13\n",
    "assert Narayana(13) == 60"
   ]
  },
  {
   "cell_type": "code",
   "execution_count": null,
   "metadata": {},
   "outputs": [],
   "source": [
    "# graph plot is here"
   ]
  },
  {
   "cell_type": "code",
   "execution_count": null,
   "metadata": {},
   "outputs": [],
   "source": [
    "def Narayana_linear(n):\n",
    "    # write your linear code here\n",
    "    return 0\n",
    "\n",
    "assert Narayana_linear(0) == 0\n",
    "assert Narayana_linear(1) == 1\n",
    "assert Narayana_linear(4) == 2\n",
    "assert Narayana_linear(9) == 13\n",
    "assert Narayana_linear(13) == 60"
   ]
  },
  {
   "cell_type": "code",
   "execution_count": 71,
   "metadata": {},
   "outputs": [],
   "source": [
    "# graph plot is here"
   ]
  }
 ],
 "metadata": {
  "kernelspec": {
   "display_name": "Python 3",
   "language": "python",
   "name": "python3"
  },
  "language_info": {
   "codemirror_mode": {
    "name": "ipython",
    "version": 3
   },
   "file_extension": ".py",
   "mimetype": "text/x-python",
   "name": "python",
   "nbconvert_exporter": "python",
   "pygments_lexer": "ipython3",
   "version": "3.7.4"
  }
 },
 "nbformat": 4,
 "nbformat_minor": 4
}
