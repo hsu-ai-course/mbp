{
 "cells": [
  {
   "cell_type": "markdown",
   "metadata": {},
   "source": [
    "# Function call\n",
    "\n",
    "## Before we start: stack"
   ]
  },
  {
   "cell_type": "code",
   "execution_count": 1,
   "metadata": {},
   "outputs": [
    {
     "name": "stdout",
     "output_type": "stream",
     "text": [
      "3\n",
      "4 2 1\n"
     ]
    }
   ],
   "source": [
    "class Stack:\n",
    "    \n",
    "    def __init__(self):\n",
    "        self.data = []\n",
    "    \n",
    "    def push(self, x):                   # you don't care where to put\n",
    "        self.data.append(x)\n",
    "\n",
    "    def pop(self):                       # pop has no parameters at all\n",
    "        result = self.data[-1]\n",
    "        self.data = self.data[:-1]\n",
    "        return result\n",
    "    \n",
    "s = Stack()\n",
    "s.push(1)\n",
    "s.push(2)\n",
    "s.push(3)\n",
    "print(s.pop())\n",
    "s.push(4)\n",
    "print(s.pop(), s.pop(), s.pop())"
   ]
  },
  {
   "cell_type": "markdown",
   "metadata": {},
   "source": [
    "## [Call stack](https://en.wikipedia.org/wiki/Call_stack)\n",
    "\n",
    "This is a data structure which is used to manage function calls in your program.\n",
    "```\n",
    "the caller pushes the return address onto the stack, and the called subroutine, when it finishes, pulls or pops the return address off the call stack and transfers control to that address. If a called subroutine calls on yet another subroutine, it will push another return address onto the call stack, and so on\n",
    "```\n",
    "If we call a method of an object, we store both function address and object address.\n",
    "\n",
    "- Also, we always know amout of memory required by local variables of a function. Thus, this memory is also allocated in stack.\n",
    "- The same happens with function call parameters - they can be stored in stack.\n",
    "\n",
    "Imagine, [function `DrawSquare` uses `DrawLine`](https://upload.wikimedia.org/wikipedia/commons/thumb/d/d3/Call_stack_layout.svg/588px-Call_stack_layout.svg.png).\n",
    "\n",
    "<img src=\"https://upload.wikimedia.org/wikipedia/commons/thumb/d/d3/Call_stack_layout.svg/588px-Call_stack_layout.svg.png\" width=300></img>"
   ]
  },
  {
   "cell_type": "code",
   "execution_count": null,
   "metadata": {},
   "outputs": [],
   "source": [
    "import traceback, sys\n",
    "    \n",
    "    \n",
    "def a(): \n",
    "    x, y, z = sys.exc_info()\n",
    "    stack = traceback.extract_stack()\n",
    "    for i in range(-5, 0):\n",
    "        print(stack[i])\n",
    "    \n",
    "    \n",
    "def b(): a()\n",
    "def c(): b()\n",
    "def d(): c()\n",
    "\n",
    "d()"
   ]
  },
  {
   "cell_type": "code",
   "execution_count": null,
   "metadata": {},
   "outputs": [],
   "source": [
    "def a():\n",
    "    return 1 // 0\n",
    "\n",
    "d()"
   ]
  },
  {
   "cell_type": "markdown",
   "metadata": {},
   "source": [
    "## Recursion\n",
    "\n",
    "General term which means defining something through iteself (kefir, GNU, ...)\n",
    "\n",
    "In programming - this is a call of a function from itself.\n",
    "\n",
    "### Problem:\n",
    "What is time complexity of such method?"
   ]
  },
  {
   "cell_type": "code",
   "execution_count": 26,
   "metadata": {},
   "outputs": [
    {
     "data": {
      "text/plain": [
       "(15, -21)"
      ]
     },
     "execution_count": 26,
     "metadata": {},
     "output_type": "execute_result"
    }
   ],
   "source": [
    "def summ(n):\n",
    "    if n > 0:                        #\n",
    "        return summ(n - 1) + n       #\n",
    "    elif n < 0:                      #\n",
    "        return -summ(-n)             #\n",
    "    else:                            #\n",
    "        return 0                     #\n",
    "    \n",
    "summ(5), summ(-6)"
   ]
  },
  {
   "cell_type": "markdown",
   "metadata": {},
   "source": [
    "### General warning\n",
    "\n",
    "Any resursion should have a wise **stop rule** or **base case**."
   ]
  },
  {
   "cell_type": "code",
   "execution_count": null,
   "metadata": {},
   "outputs": [],
   "source": [
    "def fact_bad(n):\n",
    "    return fact_bad(n - 1) * n\n",
    "\n",
    "def fact_good(n):\n",
    "    if n < 0:\n",
    "        raise Error(\"Not defined for \" + n)\n",
    "    if n in [0, 1]:\n",
    "        return 1\n",
    "    return fact_good(n - 1) * n\n",
    "\n",
    "print(fact_good(7))\n",
    "print(fact_bad(7))"
   ]
  }
 ],
 "metadata": {
  "kernelspec": {
   "display_name": "Python 3",
   "language": "python",
   "name": "python3"
  },
  "language_info": {
   "codemirror_mode": {
    "name": "ipython",
    "version": 3
   },
   "file_extension": ".py",
   "mimetype": "text/x-python",
   "name": "python",
   "nbconvert_exporter": "python",
   "pygments_lexer": "ipython3",
   "version": "3.7.4"
  }
 },
 "nbformat": 4,
 "nbformat_minor": 4
}
