{
 "cells": [
  {
   "cell_type": "code",
   "execution_count": 1,
   "metadata": {},
   "outputs": [
    {
     "name": "stdout",
     "output_type": "stream",
     "text": [
      "Possible sentence structure:\n",
      " (NZN (NZN (NZN (NZN (NZN (NZ 1)) (NZ 2)) (Z 0)) (NZ 3)) (Z 0))\n"
     ]
    }
   ],
   "source": [
    "import nltk\n",
    "# grammar - https://stackoverflow.com/questions/6115677/english-grammar-for-parsing-in-nltk\n",
    "# you can specify your own simple grammar\n",
    "\n",
    "tokens = \"12030\"\n",
    "my_grammar_string = \"\"\"\n",
    "    NZN -> NZ\n",
    "    NZN -> NZN NZ\n",
    "    NZN -> NZN Z\n",
    "    S -> NZN \n",
    "    S -> Z\n",
    "    Z -> '0'\n",
    "    NZ -> '1' | '2' | '3' | '4' | '5' | '6' | '7' | '8' | '9'\n",
    "\"\"\"\n",
    "my_grammar = nltk.CFG.fromstring(my_grammar_string)\n",
    "\n",
    "# there are lots of parsing algorithms: see http://www.nltk.org/book/ch08.html\n",
    "# Each parser need a grammar as input\n",
    "parser = nltk.ChartParser(my_grammar)\n",
    "trees = list(parser.parse(tokens))\n",
    "\n",
    "for tree in trees:\n",
    "    print(\"Possible sentence structure:\\n\", tree)\n",
    "    tree.draw()"
   ]
  },
  {
   "cell_type": "code",
   "execution_count": 2,
   "metadata": {},
   "outputs": [
    {
     "name": "stdout",
     "output_type": "stream",
     "text": [
      "Possible sentence structure:\n",
      " (F (NZN (NZN (NZN (NZ 1)) (NZ 2)) (NZ 3)) .)\n"
     ]
    }
   ],
   "source": [
    "floating_point_grammar_string = \"\"\"\n",
    "    F -> NZN '.'\n",
    "    F -> Z '.'\n",
    "    S -> F\n",
    "\"\"\" + my_grammar_string\n",
    "\n",
    "floating_point_grammar = nltk.CFG.fromstring(floating_point_grammar_string)\n",
    "\n",
    "tokens = '123.'\n",
    "parser = nltk.ChartParser(floating_point_grammar)\n",
    "trees = list(parser.parse(tokens))\n",
    "\n",
    "for tree in trees:\n",
    "    print(\"Possible sentence structure:\\n\", tree)\n",
    "    tree.draw()"
   ]
  }
 ],
 "metadata": {
  "kernelspec": {
   "display_name": "Python 3",
   "language": "python",
   "name": "python3"
  },
  "language_info": {
   "codemirror_mode": {
    "name": "ipython",
    "version": 3
   },
   "file_extension": ".py",
   "mimetype": "text/x-python",
   "name": "python",
   "nbconvert_exporter": "python",
   "pygments_lexer": "ipython3",
   "version": "3.7.4"
  }
 },
 "nbformat": 4,
 "nbformat_minor": 4
}
