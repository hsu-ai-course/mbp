{
 "cells": [
  {
   "cell_type": "markdown",
   "metadata": {},
   "source": [
    "# Heuristic algorithms\n",
    "\n",
    "[Heursitic](https://en.wikipedia.org/wiki/Heuristic_(computer_science)) - guess, which is with a high probability leads to a good result.\n",
    "\n",
    "## A*\n",
    "\n",
    "$A^*$ — heuristic greedy-like algorithm for finding path, working with lower bound estimation. \n",
    "\n",
    "$\\huge f(n) = g(n) + h(n)$\n",
    "\n",
    "- $n$ is the next node on the path,\n",
    "- $g(n)$ is the cost of the path from the start node to $n$.\n",
    "- $h(n)$ is a **heuristic function** that estimates the cost of the cheapest path from $n$ to the goal.\n"
   ]
  },
  {
   "cell_type": "markdown",
   "metadata": {},
   "source": [
    "## Short and complex explainer"
   ]
  },
  {
   "cell_type": "code",
   "execution_count": 1,
   "metadata": {},
   "outputs": [
    {
     "data": {
      "text/html": [
       "\n",
       "        <iframe\n",
       "            width=\"560\"\n",
       "            height=\"315\"\n",
       "            src=\"https://www.youtube.com/embed/vP5TkF0xJgI\"\n",
       "            frameborder=\"0\"\n",
       "            allowfullscreen\n",
       "        ></iframe>\n",
       "        "
      ],
      "text/plain": [
       "<IPython.lib.display.IFrame at 0x1c7457fb048>"
      ]
     },
     "execution_count": 1,
     "metadata": {},
     "output_type": "execute_result"
    }
   ],
   "source": [
    "from IPython.display import IFrame\n",
    "IFrame('https://www.youtube.com/embed/vP5TkF0xJgI', 560, 315)"
   ]
  },
  {
   "cell_type": "markdown",
   "metadata": {},
   "source": [
    "## With cool British accent"
   ]
  },
  {
   "cell_type": "code",
   "execution_count": 2,
   "metadata": {},
   "outputs": [
    {
     "data": {
      "text/html": [
       "\n",
       "        <iframe\n",
       "            width=\"600\"\n",
       "            height=\"400\"\n",
       "            src=\"https://www.youtube.com/embed/ySN5Wnu88nE\"\n",
       "            frameborder=\"0\"\n",
       "            allowfullscreen\n",
       "        ></iframe>\n",
       "        "
      ],
      "text/plain": [
       "<IPython.lib.display.IFrame at 0x1c74549a048>"
      ]
     },
     "execution_count": 2,
     "metadata": {},
     "output_type": "execute_result"
    }
   ],
   "source": [
    "IFrame('https://www.youtube.com/embed/ySN5Wnu88nE', 600, 400)"
   ]
  },
  {
   "cell_type": "markdown",
   "metadata": {},
   "source": [
    "## And a good one with visualization"
   ]
  },
  {
   "cell_type": "code",
   "execution_count": 3,
   "metadata": {},
   "outputs": [
    {
     "data": {
      "text/html": [
       "\n",
       "        <iframe\n",
       "            width=\"600\"\n",
       "            height=\"400\"\n",
       "            src=\"https://www.youtube.com/embed/qXZt-B7iUyw\"\n",
       "            frameborder=\"0\"\n",
       "            allowfullscreen\n",
       "        ></iframe>\n",
       "        "
      ],
      "text/plain": [
       "<IPython.lib.display.IFrame at 0x1c7457105c8>"
      ]
     },
     "execution_count": 3,
     "metadata": {},
     "output_type": "execute_result"
    }
   ],
   "source": [
    "IFrame('https://www.youtube.com/embed/qXZt-B7iUyw', 600, 400)"
   ]
  },
  {
   "cell_type": "code",
   "execution_count": 7,
   "metadata": {},
   "outputs": [
    {
     "data": {
      "image/png": "[encoded data removed]",
      "text/plain": [
       "<Figure size 432x288 with 1 Axes>"
      ]
     },
     "metadata": {
      "needs_background": "light"
     },
     "output_type": "display_data"
    }
   ],
   "source": [
    "import matplotlib.pyplot as plt\n",
    "import time\n",
    "from IPython.display import clear_output\n",
    "import numpy as np\n",
    "\n",
    "neighbours8 = [\n",
    "    (1, 0), (0, 1), (-1, 0), (0, -1),\n",
    "    (1, 1), (-1, 1), (1, -1), (-1, -1),\n",
    "]   # 8-neghbourhood\n",
    "neighbours4 = [\n",
    "    (1, 0), (0, 1), (-1, 0), (0, -1),\n",
    "]   # 4-neghbourhood\n",
    "\n",
    "\n",
    "# distance between a and b\n",
    "def d(a, b):\n",
    "    return ((a[0] - b[0]) ** 2 + (a[1] - b[1]) ** 2) ** .5\n",
    "\n",
    "def A_star(lab, dist, position, destination):\n",
    "    neighbours = neighbours8\n",
    "    candidates = []  # where go next?\n",
    "    \n",
    "    ###############################################################\n",
    "    ###############################################################\n",
    "    ### Consider this block\n",
    "    \n",
    "    for neighbour in neighbours:\n",
    "        candidate = (position[0] + neighbour[0], position[1] + neighbour[1]) \n",
    "        # it is inside labyrinth\n",
    "        if 0 <= candidate[0] < lab.shape[0] and \\\n",
    "           0 <= candidate[1] < lab.shape[1]:\n",
    "            # it is accessible\n",
    "            if lab[candidate] == 0:\n",
    "                candidates.append(candidate)\n",
    "\n",
    "    # best choise\n",
    "    result, estimation = position, None\n",
    "    for candidate in candidates:\n",
    "        g = dist\n",
    "        h = d(candidate, destination)\n",
    "        A = g + h\n",
    "\n",
    "        if estimation is None or A < estimation:\n",
    "            result, estimation = candidate, A\n",
    "    lab[result] = 2   # visited\n",
    "    return result, d(result, position)\n",
    "    \n",
    "    #####################################################\n",
    "    #####################################################\n",
    "\n",
    "\n",
    "def show(matr):\n",
    "    plt.imshow(matr)\n",
    "    plt.show()\n",
    "\n",
    "size = 20\n",
    "lab = np.zeros((size, size))\n",
    "\n",
    "# start\n",
    "lab[0,0] = 3\n",
    "\n",
    "# obstacles\n",
    "lab[3,2:4] = 1\n",
    "lab[7:10,10] = 1\n",
    "lab[9,8:14] = 1\n",
    "\n",
    "start, finish = (0, 0), (size-1, size-1)\n",
    "passed = 0\n",
    "\n",
    "while start != finish:\n",
    "    clear_output()\n",
    "    start, delta = A_star(lab, passed, start, finish)\n",
    "    show(lab)\n",
    "    time.sleep(0.5)\n",
    "    passed += delta"
   ]
  }
 ],
 "metadata": {
  "kernelspec": {
   "display_name": "Python 3",
   "language": "python",
   "name": "python3"
  },
  "language_info": {
   "codemirror_mode": {
    "name": "ipython",
    "version": 3
   },
   "file_extension": ".py",
   "mimetype": "text/x-python",
   "name": "python",
   "nbconvert_exporter": "python",
   "pygments_lexer": "ipython3",
   "version": "3.7.4"
  }
 },
 "nbformat": 4,
 "nbformat_minor": 4
}
