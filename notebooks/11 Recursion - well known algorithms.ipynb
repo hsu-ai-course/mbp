{
 "cells": [
  {
   "cell_type": "markdown",
   "metadata": {},
   "source": [
    "## Well known recursive algorithms\n",
    "\n",
    "Recursion is widely used, when it is natural to solve a problem using smaller subproblems. Two most well-known strategies are:\n",
    "- *Tree traversal*\n",
    "- *Divide-and-Conquer*. Split a problem into subparts and then aggregate the result.\n",
    "  - Merge Sorting, Quick Sorting\n",
    "  - Distributed summation\n",
    "  - Binary search (decrease-and-conquer)\n",
    "  - Karatsuba and Strassen multiplications\n",
    "- *Dymanic programming*. Problem is converted into a slightly simpler problem.\n",
    "  - Discrete knapsack\n",
    "  - Fibonacci numbers"
   ]
  },
  {
   "cell_type": "markdown",
   "metadata": {},
   "source": [
    "## Tree traversal\n",
    "\n",
    "Tree is a natural representation of multiple tasks. We recursion can be useful to traverse both real trees (see previous materials) and imaginary. Like this."
   ]
  },
  {
   "cell_type": "code",
   "execution_count": null,
   "metadata": {},
   "outputs": [],
   "source": [
    "def generate_5bits(seq):\n",
    "    if len(seq) > 5: return\n",
    "\n",
    "    if len(seq) == 5: print(seq)\n",
    "    generate_5bits(seq + [0])\n",
    "    generate_5bits(seq + [1])\n",
    "\n",
    "    \n",
    "generate_5bits([]) "
   ]
  },
  {
   "cell_type": "markdown",
   "metadata": {},
   "source": [
    "## Divide and conquer\n",
    "\n",
    "Impelement the remaining part of recursive binary search algorithm.\n",
    "- Function `bin_search` is given a sorted list `l` of values and a reference element `v`. You need to find and index if this element `v` in a list, or return `-1` instead.\n",
    "- You find a middle (median) index `m` of the list `l`. If `v` < `l[m]`, you run `bin_search` for a left half of `l`, otherwise you run `bin_search` for a right half.\n",
    "\n",
    "Estimate it's time complexity."
   ]
  },
  {
   "cell_type": "code",
   "execution_count": 20,
   "metadata": {},
   "outputs": [
    {
     "name": "stdout",
     "output_type": "stream",
     "text": [
      "999\n"
     ]
    },
    {
     "data": {
      "image/png": "[encoded data removed]",
      "text/plain": [
       "<matplotlib.figure.Figure at 0x263d4bf1550>"
      ]
     },
     "metadata": {},
     "output_type": "display_data"
    }
   ],
   "source": [
    "import matplotlib.pyplot as plt\n",
    "import time\n",
    "\n",
    "def bin_search(l, v, lower, upper):\n",
    "    if lower == upper:\n",
    "        return lower if lower < len(data) and l[lower] == v else -1\n",
    "    else:\n",
    "        m = (upper + lower) // 2\n",
    "        \n",
    "        # TODO: write what is missing here\n",
    "        \n",
    "        return bin_search(l, v, lower, upper)\n",
    "      \n",
    "print(bin_search(list(range(10000)), 999, 0, 10000))\n",
    "\n",
    "times = []\n",
    "datas = [100, 1000, 10000, 100000, 1000000, 3000000, 6000000, 10000000]\n",
    "for i in datas:\n",
    "    t = []\n",
    "    for j in range(10):\n",
    "        data = list(range(i))\n",
    "        s = time.perf_counter()\n",
    "        bin_search(data, 999.5, 0, len(data))    \n",
    "        e = time.perf_counter()\n",
    "        t.append(e - s)\n",
    "    times.append(min(t))\n",
    "\n",
    "plt.plot(datas, times)\n",
    "plt.show()"
   ]
  },
  {
   "cell_type": "markdown",
   "metadata": {},
   "source": [
    "## Dynamic programming\n",
    "\n",
    "Consider Fibonacci sequence.\n",
    "\n",
    "$\\large F_i = F_{i-1} + F_{i-2}$\n",
    "\n",
    "Let's implement in in few ways. Here is a naive implementation of recurrence relation. Can you estimate time complexity? Without a run?"
   ]
  },
  {
   "cell_type": "code",
   "execution_count": 34,
   "metadata": {},
   "outputs": [
    {
     "name": "stdout",
     "output_type": "stream",
     "text": [
      "F() is called\n",
      "F() is called\n",
      "F() is called\n",
      "F() is called\n",
      "F() is called\n"
     ]
    },
    {
     "data": {
      "image/png": "[encoded data removed]",
      "text/plain": [
       "<matplotlib.figure.Figure at 0x263c336b828>"
      ]
     },
     "metadata": {},
     "output_type": "display_data"
    }
   ],
   "source": [
    "def naive_fib(n, verbose):\n",
    "    if n == 3 and verbose: print(\"F() is called\")\n",
    "    if n < 2: return 1                                         # \n",
    "    return naive_fib(n-1, verbose) + naive_fib(n-2, verbose)   #\n",
    "\n",
    "naive_fib(7, True)\n",
    "\n",
    "times = []\n",
    "ns = list(range(30))\n",
    "for i in ns:\n",
    "    t = []\n",
    "    for j in range(10):\n",
    "        s = time.perf_counter()\n",
    "        naive_fib(i, False)    \n",
    "        e = time.perf_counter()\n",
    "        t.append(e - s)\n",
    "    times.append(min(t))\n",
    "    \n",
    "plt.plot(ns, times)\n",
    "plt.show()"
   ]
  },
  {
   "cell_type": "markdown",
   "metadata": {},
   "source": [
    "### Memoization\n",
    "\n",
    "Is a technique which pays memory for time. We don't have to recompute the value, if it was computed in other recursion branch. Implement memoization for Fibonacci sequence."
   ]
  },
  {
   "cell_type": "code",
   "execution_count": null,
   "metadata": {},
   "outputs": [],
   "source": [
    "memory = {}\n",
    "\n",
    "def memo_fib(n):\n",
    "    if n < 2: return 1\n",
    "    # rewrite the code here to use memory\n",
    "    x = memo_fib(n - 1)\n",
    "    y = memo_fib(n - 2)\n",
    "    return x + y \n",
    "    \n",
    "times = []\n",
    "ns = list(range(600))\n",
    "for i in ns:\n",
    "    t = []\n",
    "    for j in range(50):\n",
    "        s = time.perf_counter()\n",
    "        memory = {}\n",
    "        memo_fib(i)    \n",
    "        e = time.perf_counter()\n",
    "        t.append(e - s)\n",
    "    times.append(min(t))\n",
    "    \n",
    "plt.plot(ns, times)\n",
    "plt.show()"
   ]
  },
  {
   "cell_type": "markdown",
   "metadata": {},
   "source": [
    "## Recursion and stack\n",
    "\n",
    "Any recursive function can be rewritten using stack! Remember, just put call arguments and local variables on the stack's top."
   ]
  },
  {
   "cell_type": "code",
   "execution_count": 67,
   "metadata": {},
   "outputs": [
    {
     "name": "stdout",
     "output_type": "stream",
     "text": [
      "5040\n"
     ]
    }
   ],
   "source": [
    "def factorial(n):\n",
    "    return 1 if n < 2 else n * factorial(n - 1)\n",
    "\n",
    "def factorial_stack(n):\n",
    "    stack = []\n",
    "    stack.append(n)\n",
    "    \n",
    "    while True:\n",
    "        # we read the argument\n",
    "        arg = stack[-1]\n",
    "        if arg < 2:\n",
    "            # in this case we RETURN from the function. \n",
    "            # thus, we POP\n",
    "            stack.pop()\n",
    "            # we put our computation on the top of a stack\n",
    "            stack.append(1)\n",
    "            break    \n",
    "        # here we call a function for (n-1)\n",
    "        stack.append(arg - 1)\n",
    "        \n",
    "    while True:\n",
    "        if len(stack) > 1:\n",
    "            f_a_1 = stack.pop()\n",
    "            a = stack.pop()\n",
    "            stack.append(a * f_a_1)\n",
    "        else:\n",
    "            break\n",
    "    \n",
    "    return stack.pop()\n",
    "\n",
    "print(factorial_stack(7))"
   ]
  },
  {
   "cell_type": "markdown",
   "metadata": {},
   "source": [
    "## Tail recursion\n",
    "\n",
    "As any recursion, by definition of call stack, can be rewritten using stack, there is special type of recursion - **tail recursion**. Any tail recursion can be rewritten to a loop with NO stack (= no additional memory). This is widely used in compiler optimization. Can you do it for factorial function? For a binary search?"
   ]
  },
  {
   "cell_type": "code",
   "execution_count": 68,
   "metadata": {},
   "outputs": [],
   "source": [
    "def factorial_iter(n):\n",
    "    pass\n",
    "\n",
    "\n",
    "def binary_search_iter(l, v):\n",
    "    pass"
   ]
  }
 ],
 "metadata": {
  "kernelspec": {
   "display_name": "Python 3",
   "language": "python",
   "name": "python3"
  },
  "language_info": {
   "codemirror_mode": {
    "name": "ipython",
    "version": 3
   },
   "file_extension": ".py",
   "mimetype": "text/x-python",
   "name": "python",
   "nbconvert_exporter": "python",
   "pygments_lexer": "ipython3",
   "version": "3.7.4"
  }
 },
 "nbformat": 4,
 "nbformat_minor": 4
}
